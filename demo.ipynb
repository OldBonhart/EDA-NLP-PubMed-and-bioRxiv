{
  "nbformat": 4,
  "nbformat_minor": 0,
  "metadata": {
    "colab": {
      "name": "demo.ipynb",
      "provenance": [],
      "collapsed_sections": []
    },
    "kernelspec": {
      "name": "python3",
      "display_name": "Python 3"
    }
  },
  "cells": [
    {
      "cell_type": "code",
      "metadata": {
        "id": "54MVmM1lon-h",
        "colab_type": "code",
        "colab": {
          "resources": {
            "http://localhost:8080/nbextensions/google.colab/files.js": {
              "data": "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",
              "ok": true,
              "headers": [
                [
                  "content-type",
                  "application/javascript"
                ]
              ],
              "status": 200,
              "status_text": ""
            }
          },
          "base_uri": "https://localhost:8080/",
          "height": 111
        },
        "outputId": "dad38616-f02e-4215-de35-c6a28c2539b0"
      },
      "source": [
        "from google.colab import files\n",
        "files.upload()"
      ],
      "execution_count": 17,
      "outputs": [
        {
          "output_type": "display_data",
          "data": {
            "text/html": [
              "\n",
              "     <input type=\"file\" id=\"files-b2146a2c-660f-4f53-92bc-8ae1c354ebde\" name=\"files[]\" multiple disabled />\n",
              "     <output id=\"result-b2146a2c-660f-4f53-92bc-8ae1c354ebde\">\n",
              "      Upload widget is only available when the cell has been executed in the\n",
              "      current browser session. Please rerun this cell to enable.\n",
              "      </output>\n",
              "      <script src=\"/nbextensions/google.colab/files.js\"></script> "
            ],
            "text/plain": [
              "<IPython.core.display.HTML object>"
            ]
          },
          "metadata": {
            "tags": []
          }
        },
        {
          "output_type": "stream",
          "text": [
            "Saving data_ploting.py to data_ploting.py\n"
          ],
          "name": "stdout"
        },
        {
          "output_type": "execute_result",
          "data": {
            "text/plain": [
              "{'data_ploting.py': b'from PIL import Image\\r\\nimport numpy as np\\r\\nimport random\\r\\n\\r\\nimport matplotlib.pyplot as plt\\r\\nfrom matplotlib import cm\\r\\nimport seaborn as sns\\r\\n\\r\\nfrom mpl_toolkits.mplot3d import Axes3D\\r\\nimport matplotlib.patches as mpatches\\r\\nimport matplotlib.colors as mcolors\\r\\n\\r\\nimport os\\r\\nimport tempfile\\r\\nimport imageio\\r\\nimport shutil\\r\\n\\r\\n# set theme\\r\\nsns.set_context(\"poster\", font_scale=0.8, rc={\"lines.linewidth\": 1.1})\\r\\n\\r\\ndef get_color():\\r\\n    color = random.choice([\"mediumspringgreen\",\\r\\n                           \"cyan\",\\r\\n                           \"darkcyan\",\\r\\n                           \"mediumvioletred\",\\r\\n                           \"seagreen\",\\r\\n                           \"purple\",\\r\\n                           \"darkmagenta\"])\\r\\n    return color\\r\\n\\r\\n\\r\\ndef tsne_plot_2d(filename, label, embeddings, words=[], a=1, color=get_color()):\\r\\n    sns.set_context(\"poster\", font_scale=0.8, rc={\"lines.linewidth\": 1.1})\\r\\n    plt.figure(figsize=(16, 9))\\r\\n    colors = cm.rainbow(np.linspace(0, 1, 1))\\r\\n    x = embeddings[:,0]\\r\\n    y = embeddings[:,1]\\r\\n    plt.scatter(x, y, c=color, alpha=a, label=label)\\r\\n    for i, word in enumerate(words):\\r\\n        plt.annotate(word, alpha=0.3, xy=(x[i], y[i]), xytext=(5, 2), \\r\\n                     textcoords=\\'offset points\\', ha=\\'right\\', va=\\'bottom\\', size=10)\\r\\n    plt.legend(loc=\"best\")\\r\\n    plt.grid(True)\\r\\n    plt.savefig(f\"{filename}.png\", format=\\'png\\', dpi=150, bbox_inches=\\'tight\\')\\r\\n    plt.axis(\"off\")\\r\\n    plt.close()\\r\\n    \\r\\n\\r\\n\\r\\n\\r\\ndef tsne_plot_3d_gif(title,\\r\\n                     label,\\r\\n                     embeddings,\\r\\n                     c=get_color(),\\r\\n                     filename=\"3d.gif\",\\r\\n                     a=0.4):\\r\\n    sns.set_context(\"poster\", font_scale=0.5, rc={\"lines.linewidth\": 0.4})\\r\\n    fig = plt.figure(figsize=(15,10))\\r\\n    ax = Axes3D(fig)\\r\\n\\r\\n    a = plt.scatter(embeddings[:, 0], embeddings[:, 1], embeddings[:, 2], c=c, alpha=a)\\r\\n\\r\\n    plt.title(title, fontsize=18)\\r\\n\\r\\n    red_patch = mpatches.Patch(color=c, label=label)\\r\\n    plt.legend(handles=[red_patch], loc=3, fontsize=15)\\r\\n\\r\\n    dirpath = tempfile.mkdtemp()\\r\\n    images = []\\r\\n    for angle in range(0, 360, 5):\\r\\n        ax.view_init(30, angle)\\r\\n        fname = os.path.join(dirpath, str(angle) + \\'.png\\')\\r\\n        plt.savefig(fname, dpi=120, format=\\'png\\', bbox_inches=\\'tight\\')\\r\\n        images.append(imageio.imread(fname))\\r\\n    imageio.mimsave(filename, images)\\r\\n    shutil.rmtree(dirpath)\\r\\n    plt.close()\\r\\n    \\r\\ndef tsne_plot_similar_words(title,\\r\\n                            labels,\\r\\n                            embedding_clusters,\\r\\n                            word_clusters,\\r\\n                            a,\\r\\n                            filename):\\r\\n    sns.set_context(\"poster\", font_scale=0.5, rc={\"lines.linewidth\": 0.7})\\r\\n    plt.figure(figsize=(20, 15))\\r\\n    colors = random.choices(list(mcolors.CSS4_COLORS.keys()),k=len(labels))\\r\\n    idx_color = 0\\r\\n    for label, embeddings, words, color in zip(labels, embedding_clusters, word_clusters, colors):\\r\\n\\r\\n        x = embeddings[:, 0]\\r\\n        y = embeddings[:, 1]\\r\\n\\r\\n        plt.scatter(x, y, c=colors[idx_color], alpha=a, label=label)\\r\\n        for i, word in enumerate(words):\\r\\n            plt.annotate(word, alpha=0.5, xy=(x[i], y[i]), xytext=(5, 2),\\r\\n                         textcoords=\\'offset points\\', ha=\\'right\\', va=\\'bottom\\', size=8)\\r\\n        idx_color += 1\\r\\n\\r\\n    plt.legend(loc=4, fontsize=12)\\r\\n    plt.title(title, fontsize=15)\\r\\n    plt.grid(True)\\r\\n    plt.axis(\"off\")\\r\\n    if filename:\\r\\n        plt.savefig(f\"{filename}.png\", format=\\'png\\', dpi=150, bbox_inches=\\'tight\\')\\r\\n    plt.close()\\r\\n    \\r\\n    \\r\\ndef get_mask(img_path):\\r\\n    img = Image.open(img_path).convert(\"L\")\\r\\n    return np.array(img)'}"
            ]
          },
          "metadata": {
            "tags": []
          },
          "execution_count": 17
        }
      ]
    },
    {
      "cell_type": "code",
      "metadata": {
        "id": "2v9OoAYmon5E",
        "colab_type": "code",
        "colab": {}
      },
      "source": [
        "# Pubmed url\n",
        "GETURL1 = \"https://www.ncbi.nlm.nih.gov/pubmed/?term=Coronavirus+2019-nCoV\"\n",
        "NUM_PAGES1 = 1\n",
        "\n",
        "# Biorxiv url\n",
        "GETURL2 = \"https://www.biorxiv.org/search/Coronavirus%252B2019-nCoV%20numresults%3A75%20sort%3Arelevance-rank?page=\"\n",
        "NUM_PAGES2 = 1\n",
        "\n",
        "MASK = \"mask.png\"\n",
        "PROMO = \"promo.jpg\"\n",
        "THEME = \"Coronavirus 2019-nCoV\""
      ],
      "execution_count": 0,
      "outputs": []
    },
    {
      "cell_type": "code",
      "metadata": {
        "id": "qAPz7R3boVOj",
        "colab_type": "code",
        "outputId": "87e2535b-0b42-4b63-a372-65a6bed65f42",
        "colab": {
          "base_uri": "https://localhost:8080/",
          "height": 102
        }
      },
      "source": [
        "!pip install fpdf aiohttp -qq"
      ],
      "execution_count": 4,
      "outputs": [
        {
          "output_type": "stream",
          "text": [
            "\u001b[K     |████████████████████████████████| 1.2MB 8.1MB/s \n",
            "\u001b[K     |████████████████████████████████| 153kB 53.4MB/s \n",
            "\u001b[K     |████████████████████████████████| 256kB 51.4MB/s \n",
            "\u001b[?25h  Building wheel for fpdf (setup.py) ... \u001b[?25l\u001b[?25hdone\n",
            "  Building wheel for idna-ssl (setup.py) ... \u001b[?25l\u001b[?25hdone\n"
          ],
          "name": "stdout"
        }
      ]
    },
    {
      "cell_type": "code",
      "metadata": {
        "id": "A5vzNpwOoVtg",
        "colab_type": "code",
        "outputId": "9c268bcf-5a97-4b1b-ca94-f466a4a59f74",
        "colab": {
          "base_uri": "https://localhost:8080/",
          "height": 85
        }
      },
      "source": [
        "%%time\n",
        "\n",
        "import asyncio\n",
        "import aiohttp\n",
        "import socket\n",
        "\n",
        "#import requests\n",
        "from bs4 import BeautifulSoup\n",
        "\n",
        "\n",
        "#GETURL = \"https://www.ncbi.nlm.nih.gov/pubmed/?term=coronavirus+2019-nCoV\"\n",
        "POSTURL = \"https://www.ncbi.nlm.nih.gov/pubmed/\"\n",
        "\n",
        "\n",
        "PMID = []\n",
        "#NUM_PAGES = 1#46\n",
        "ITEMS_PER_PAGE = 100\n",
        "\n",
        "\n",
        "pubmed_MAP = {}\n",
        "SEMA = asyncio.BoundedSemaphore(300)\n",
        "\n",
        "####################### Get all PMID #########################\n",
        "\n",
        "async def get_session_and_inputs(page, items_per_page):\n",
        "\n",
        "    headers = {\"User-Agent\" : \"Mozilla/5.0\", \"Connection\": \"close\"}\n",
        "    async with aiohttp.ClientSession(headers=headers) as session:\n",
        "        async with session.get(GETURL1) as response:\n",
        "            data = await response.text()\n",
        "            soup = BeautifulSoup(data, \"lxml\")\n",
        "\n",
        "            inputs = {i['name']: i.get('value', '') for i\n",
        "                      in soup.select('form#EntrezForm input[name]')}\n",
        "            inputs['EntrezSystem2.PEntrez.PubMed.Pubmed_ResultsPanel.Pubmed_DisplayBar.PageSize'] = ITEMS_PER_PAGE\n",
        "            inputs['EntrezSystem2.PEntrez.PubMed.Pubmed_ResultsPanel.Pubmed_DisplayBar.PrevPageSize'] = ITEMS_PER_PAGE\n",
        "            inputs['EntrezSystem2.PEntrez.DbConnector.Cmd'] = 'PageChanged'\n",
        "\n",
        "            inputs['EntrezSystem2.PEntrez.PubMed.Pubmed_ResultsPanel.Pubmed_Pager.CurrPage'] = page\n",
        "            inputs['EntrezSystem2.PEntrez.PubMed.Pubmed_ResultsPanel.Pubmed_Pager.cPage'] = page\n",
        "\n",
        "        async with session.post(POSTURL, data=inputs) as response2:\n",
        "            data = await response2.text()\n",
        "            soup = BeautifulSoup(data, \"lxml\")\n",
        "            PMID.append([pmid.text for pmid in soup('dd')])\n",
        "\n",
        "\n",
        "async def get_all_pmid():\n",
        "    tasks = []\n",
        "    for page in range(NUM_PAGES1):\n",
        "        task = asyncio.ensure_future(get_session_and_inputs(page=page,\n",
        "                                                            items_per_page=NUM_PAGES1))\n",
        "        tasks.append(task)\n",
        "\n",
        "    await asyncio.gather(*tasks)\n",
        "\n",
        "############# Get all data in MAP from each uniq PMID articles ###################\n",
        "\n",
        "async def parse_text_from_paper(pmid):\n",
        "    '''\n",
        "    From link to science paper (pmid) - get html,\n",
        "    then get document's body (data) from one page.\n",
        "    '''\n",
        "    \n",
        "    conn = aiohttp.TCPConnector(family=socket.AF_INET)\n",
        "    headers={\"User-Agent\" : \"Mozilla/5.0\",\n",
        "             \"Connection\": \"close\"}\n",
        "    \n",
        "    async with aiohttp.ClientSession(headers=headers, connector=conn) as session:\n",
        "        async with SEMA, session.get(f\"https://www.ncbi.nlm.nih.gov/pubmed/{pmid}\") as response:\n",
        "            data = await response.text()\n",
        "            soup = BeautifulSoup(data, \"lxml\")\n",
        "\n",
        "            title = [text.find('h1').text for text in soup.find_all(\"div\", class_=\"rprt_all\")]\n",
        "            data = [text.find('p').text for text in soup.find_all(\"div\", class_=\"abstr\")]\n",
        "            pubmed_MAP[POSTURL+pmid] = data, title[0]\n",
        "\n",
        "async def get_all_data():\n",
        "\n",
        "    tasks = []\n",
        "    pmid_items = [pmid_i for lst in PMID for pmid_i in lst]\n",
        "\n",
        "    for pmid in pmid_items:\n",
        "\n",
        "        task = asyncio.ensure_future(parse_text_from_paper(pmid))\n",
        "        tasks.append(task)\n",
        "\n",
        "    await asyncio.gather(*tasks)\n",
        "\n",
        "\n",
        "loop = asyncio.get_event_loop()\n",
        "loop.run_until_complete(get_all_pmid())\n",
        "loop = asyncio.get_event_loop()\n",
        "loop.run_until_complete(get_all_data())\n",
        "    \n",
        "print(f\"Done!\\nMap length: {len(pubmed_MAP)}\")"
      ],
      "execution_count": 5,
      "outputs": [
        {
          "output_type": "stream",
          "text": [
            "Done!\n",
            "Map length: 72\n",
            "CPU times: user 3.32 s, sys: 91.5 ms, total: 3.41 s\n",
            "Wall time: 4.85 s\n"
          ],
          "name": "stdout"
        }
      ]
    },
    {
      "cell_type": "code",
      "metadata": {
        "id": "A6hyK1M9oWgY",
        "colab_type": "code",
        "outputId": "0c043c4c-93b3-4001-e41d-aed96f576107",
        "colab": {
          "base_uri": "https://localhost:8080/",
          "height": 51
        }
      },
      "source": [
        "%%time\n",
        "\n",
        "import asyncio\n",
        "import aiohttp\n",
        "\n",
        "import requests\n",
        "from bs4 import BeautifulSoup\n",
        "\n",
        "#GETURL2 = \"https://www.biorxiv.org/search/coronavirus%252B2019-nCoV?page=\"\n",
        "MAIN_URL = \"https://www.biorxiv.org\"\n",
        "PAPER_LINKS = []\n",
        "#NUM_PAGES2 = 12\n",
        "biorxiv_MAP = {}\n",
        "\n",
        "async def fetch_links_from_page(page, session, geturl=GETURL2):\n",
        "    \"\"\"\n",
        "    corutine parse links on paper from page\n",
        "    and added there into list.\n",
        "    \"\"\"\n",
        "\n",
        "    async with session.get(f\"{geturl}{page}\") as response:\n",
        "        data = await response.text()\n",
        "        soup = BeautifulSoup(data, \"lxml\")\n",
        "\n",
        "        PAPER_LINKS.append([MAIN_URL + i.get(\"href\")for i in \n",
        "                         soup.find_all(name='a',class_='highwire-cite-linked-title')])\n",
        "\n",
        "\n",
        "\n",
        "async def get_paper_links(url):\n",
        "    tasks = []\n",
        "    async with aiohttp.ClientSession() as session:\n",
        "        for page in range(NUM_PAGES2):\n",
        "            task = asyncio.ensure_future(fetch_links_from_page(page, session, geturl=url))\n",
        "            tasks.append(task)\n",
        "        \n",
        "        await asyncio.gather(*tasks)\n",
        "\n",
        "\n",
        "async def fetch_content(url, session):\n",
        "    async with session.get(url) as response:\n",
        "        data = await response.text()\n",
        "        soup = BeautifulSoup(data, \"lxml\")\n",
        "        try:\n",
        "            title = soup.find(\"h1\", {\"id\": \"page-title\"}).text\n",
        "            biorxiv_MAP[url] = [p.text for p in \n",
        "                            soup.find(\"div\", {\"id\": \"abstract-1\"}).find_all('p')], title\n",
        "        except:\n",
        "            print(f\"\\n Problem with this link {url}\")           \n",
        "            biorxiv_MAP[url] = None\n",
        "\n",
        "\n",
        "\n",
        "\n",
        "async def get_all_data():\n",
        "    tasks = []\n",
        "\n",
        "    async with aiohttp.ClientSession() as session:\n",
        "        URLS = [link for lst in PAPER_LINKS for link in lst]\n",
        "        for url in URLS:\n",
        "            task = asyncio.ensure_future(fetch_content(url, session))\n",
        "            tasks.append(task)\n",
        "        await asyncio.gather(*tasks)\n",
        "\n",
        "\n",
        "\n",
        "\n",
        "loop = asyncio.get_event_loop()\n",
        "loop.run_until_complete(get_paper_links(GETURL2))\n",
        "\n",
        "loop.run_until_complete(get_all_data())"
      ],
      "execution_count": 6,
      "outputs": [
        {
          "output_type": "stream",
          "text": [
            "CPU times: user 1.52 s, sys: 29.3 ms, total: 1.55 s\n",
            "Wall time: 6.33 s\n"
          ],
          "name": "stdout"
        }
      ]
    },
    {
      "cell_type": "code",
      "metadata": {
        "id": "kyo9G8XKoWZS",
        "colab_type": "code",
        "outputId": "bb79bece-917d-4a26-9483-65f4ba32512c",
        "colab": {
          "base_uri": "https://localhost:8080/",
          "height": 85
        }
      },
      "source": [
        "def remove_none(data):\n",
        "    print(len(data))\n",
        "    filtered = {k: v for k, v in data.items() if v is not None}\n",
        "    data.clear()\n",
        "    data.update(filtered)\n",
        "    print(len(data))\n",
        "    return data\n",
        "\n",
        "pubmed_MAP = remove_none(pubmed_MAP)\n",
        "biorxiv_MAP = remove_none(biorxiv_MAP)"
      ],
      "execution_count": 7,
      "outputs": [
        {
          "output_type": "stream",
          "text": [
            "72\n",
            "72\n",
            "42\n",
            "42\n"
          ],
          "name": "stdout"
        }
      ]
    },
    {
      "cell_type": "code",
      "metadata": {
        "id": "J1OwtCPpoVy2",
        "colab_type": "code",
        "colab": {}
      },
      "source": [
        "from PIL import Image\n",
        "import numpy as np\n",
        "\n",
        "def get_mask(img_path):\n",
        "    img = Image.open(img_path).convert(\"L\")\n",
        "    return np.array(img)\n",
        "\n",
        "MASK = get_mask(MASK)"
      ],
      "execution_count": 0,
      "outputs": []
    },
    {
      "cell_type": "code",
      "metadata": {
        "id": "USYw4TCjoLlg",
        "colab_type": "code",
        "outputId": "8c568a56-1a80-4f79-aab0-01b406496a36",
        "colab": {
          "base_uri": "https://localhost:8080/",
          "height": 1000
        }
      },
      "source": [
        "pubmed_MAP"
      ],
      "execution_count": 11,
      "outputs": [
        {
          "output_type": "execute_result",
          "data": {
            "text/plain": [
              "{'https://www.ncbi.nlm.nih.gov/pubmed/31944312': ([\"Respiratory tract viral infection caused by viruses or bacteria is one of the most common diseases in human worldwide, while those caused by emerging viruses, such as the novel coronavirus, 2019-nCoV that caused the pneumonia outbreak in Wuhan, China most recently, have posed great threats to global public health. Identification of the causative viral pathogens of respiratory tract viral infections is important to select an appropriate treatment, save people's lives, stop the epidemics, and avoid unnecessary use of antibiotics. Conventional diagnostic tests, such as the assays for rapid detection of antiviral antibodies or viral antigens, are widely used in many clinical laboratories. With the development of modern technologies, new diagnostic strategies, including multiplex nucleic acid amplification and microarray-based assays, are emerging. This review summarizes currently available and novel emerging diagnostic methods for the detection of common respiratory viruses, such as influenza virus, human respiratory syncytial virus, coronavirus, human adenovirus, and human rhinovirus. Multiplex assays for simultaneous detection of multiple respiratory viruses are also described. It is anticipated that such data will assist researchers and clinicians to develop appropriate diagnostic strategies for timely and effective detection of respiratory virus infections.\"],\n",
              "  'Recent advances in the detection of respiratory virus infection in humans.'),\n",
              " 'https://www.ncbi.nlm.nih.gov/pubmed/31950516': (['Since December 2019, a total of 41 cases of pneumonia of unknown etiology have been confirmed in Wuhan city, Hubei Province, China. Wuhan city is a major transportation hub with a population of more than 11 million people. Most of the patients visited a local fish and wild animal market last month. At a national press conference held today, Dr. Jianguo Xu, an academician of the Chinese Academy of Engineering, who led a scientific team announced that a new-type coronavirus, tentatively named by World Health Organization as the 2019-new coronavirus (2019-nCoV), had caused this outbreak (1).'],\n",
              "  'Outbreak of Pneumonia of Unknown Etiology in Wuhan China: the Mystery and the Miracle.'),\n",
              " 'https://www.ncbi.nlm.nih.gov/pubmed/31953166': ([],\n",
              "  'The continuing 2019-nCoV epidemic threat of novel coronaviruses to global health - The latest 2019 novel coronavirus outbreak in Wuhan, China.'),\n",
              " 'https://www.ncbi.nlm.nih.gov/pubmed/31967321': (['The current outbreak of viral pneumonia in the city of Wuhan, China, was caused by a novel coronavirus designated 2019-nCoV by the World Health Organization, as determined by sequencing the viral RNA genome. Many patients were potentially exposed to wildlife animals at the Huanan seafood wholesale market, where poultry, snake, bats, and other farm animals were also sold. To determine the possible virus reservoir, we have carried out comprehensive sequence analysis and comparison in conjunction with relative synonymous codon usage (RSCU) bias among different animal species based on existing sequences of the newly identified coronavirus 2019-nCoV. Results obtained from our analyses suggest that the 2019-nCoV appears to be a recombinant virus between the bat coronavirus and an origin-unknown coronavirus. The recombination occurred within the viral spike glycoprotein, which recognizes cell surface receptor. Additionally, our findings suggest that snake is the most probable wildlife animal reservoir for the 2019-nCoV based on its RSCU bias resembling snake compared to other animals. Taken together, our results suggest that homologous recombination within the spike glycoprotein may contribute to cross-species transmission from snake to humans. This article is protected by copyright. All rights reserved.'],\n",
              "  'Homologous recombination within the spike glycoprotein of the newly identified coronavirus may boost cross-species transmission from snake to human.'),\n",
              " 'https://www.ncbi.nlm.nih.gov/pubmed/31967327': (['The recent emergence of a novel coronavirus (2019-nCoV), which is causing an outbreak of unusual viral pneumonia in patients in Wuhan, a central city in China, is another warning of the risk of CoVs posed to public health. In this minireview, we provide a brief introduction of the general features of CoVs and describe diseases caused by different CoVs in humans and animals. This review will help understand the biology and potential risk of CoVs that exist in richness in wildlife such as bats.'],\n",
              "  'Emerging coronaviruses: Genome structure, replication, and pathogenesis.'),\n",
              " 'https://www.ncbi.nlm.nih.gov/pubmed/31978945': (['In December 2019, a cluster of patients with pneumonia of unknown cause was linked to a seafood wholesale market in Wuhan, China. A previously unknown betacoronavirus was discovered through the use of unbiased sequencing in samples from patients with pneumonia. Human airway epithelial cells were used to isolate a novel coronavirus, named 2019-nCoV, which formed another clade within the subgenus sarbecovirus, Orthocoronavirinae subfamily. Different from both MERS-CoV and SARS-CoV, 2019-nCoV is the seventh member of the family of coronaviruses that infect humans. Enhanced surveillance and further investigation are ongoing. (Funded by the National Key Research and Development Program of China and the National Major Project for Control and Prevention of Infectious Disease in China.).'],\n",
              "  'A Novel Coronavirus from Patients with Pneumonia in China, 2019.'),\n",
              " 'https://www.ncbi.nlm.nih.gov/pubmed/31986259': ([],\n",
              "  'Emerging understandings of 2019-nCoV.'),\n",
              " 'https://www.ncbi.nlm.nih.gov/pubmed/31986264': (['A recent cluster of pneumonia cases in Wuhan, China, was caused by a novel betacoronavirus, the 2019 novel coronavirus (2019-nCoV). We report the epidemiological, clinical, laboratory, and radiological characteristics and treatment and clinical outcomes of these patients.'],\n",
              "  'Clinical features of patients infected with 2019 novel coronavirus in Wuhan, China.'),\n",
              " 'https://www.ncbi.nlm.nih.gov/pubmed/31987001': ([\"A mysterious outbreak of atypical pneumonia in late 2019 was traced to a seafood wholesale market in Wuhan of China. Within a few weeks, a novel coronavirus tentatively named as 2019 novel coronavirus (2019-nCoV) was announced by the World Health Organization. We performed bioinformatics analysis on a virus genome from a patient with 2019-nCoV infection and compared it with other related coronavirus genomes. Overall, the genome of 2019-nCoV has 89% nucleotide identity with bat SARS-like-CoVZXC21 and 82% with that of human SARS-CoV. The phylogenetic trees of their orf1a/b, Spike, Envelope, Membrane and Nucleoprotein also clustered closely with those of the bat, civet and human SARS coronaviruses. However, the external subdomain of Spike's receptor binding domain of 2019-nCoV shares only 40% amino acid identity with other SARS-related coronaviruses. Remarkably, its orf3b encodes a completely novel short protein. Furthermore, its new orf8 likely encodes a secreted protein with an alpha-helix, following with a beta-sheet(s) containing six strands. Learning from the roles of civet in SARS and camel in MERS, hunting for the animal source of 2019-nCoV and its more ancestral virus would be important for understanding the origin and evolution of this novel lineage B betacoronavirus. These findings provide the basis for starting further studies on the pathogenesis, and optimizing the design of diagnostic, antiviral and vaccination strategies for this emerging infection.\"],\n",
              "  'Genomic characterization of the 2019 novel human-pathogenic coronavirus isolated from a patient with atypical pneumonia after visiting Wuhan.'),\n",
              " 'https://www.ncbi.nlm.nih.gov/pubmed/31991541': (['The emergence of a novel coronavirus (2019-nCoV) has awakened the echoes of SARS-CoV from nearly two decades ago. Yet, with technological advances and important lessons gained from previous outbreaks, perhaps the world is better equipped to deal with the most recent emergent group 2B coronavirus.'],\n",
              "  'Return of the Coronavirus: 2019-nCoV.'),\n",
              " 'https://www.ncbi.nlm.nih.gov/pubmed/31991628': (['A cluster of pneumonia cases linked to a novel coronavirus (2019-nCoV) was reported by China in late December 2019. Reported case incidence has now reached the hundreds, but this is likely an underestimate. As of 24 January 2020, with reports of thirteen exportation events, we estimate the cumulative incidence in China at 5502 cases (95% confidence interval: 3027, 9057). The most plausible number of infections is in the order of thousands, rather than hundreds, and there is a strong indication that untraced exposures other than the one in the epidemiologically linked seafood market in Wuhan have occurred.'],\n",
              "  'The Extent of Transmission of Novel Coronavirus in Wuhan, China, 2020.'),\n",
              " 'https://www.ncbi.nlm.nih.gov/pubmed/31992387': (['BackgroundThe ongoing outbreak of the recently emerged novel coronavirus (2019-nCoV) poses a challenge for public health laboratories as virus isolates are unavailable while there is growing evidence that the outbreak is more widespread than initially thought, and international spread through travellers does already occur.AimWe aimed to develop and deploy robust diagnostic methodology for use in public health laboratory settings without having virus material available.MethodsHere we present a validated diagnostic workflow for 2019-nCoV, its design relying on close genetic relatedness of 2019-nCoV with SARS coronavirus, making use of synthetic nucleic acid technology.ResultsThe workflow reliably detects 2019-nCoV, and further discriminates 2019-nCoV from SARS-CoV. Through coordination between academic and public laboratories, we confirmed assay exclusivity based on 297 original clinical specimens containing a full spectrum of human respiratory viruses. Control material is made available through European Virus Archive - Global (EVAg), a European Union infrastructure project.ConclusionThe present study demonstrates the enormous response capacity achieved through coordination of academic and public laboratories in national and European research networks.'],\n",
              "  'Detection of 2019 novel coronavirus (2019-nCoV) by real-time RT-PCR.'),\n",
              " 'https://www.ncbi.nlm.nih.gov/pubmed/31992388': (['A novel coronavirus (2019-nCoV) causing severe acute respiratory disease emerged recently in Wuhan, China. Information on reported cases strongly indicates human-to-human spread, and the most recent information is increasingly indicative of sustained human-to-human transmission. While the overall severity profile among cases may change as more mild cases are identified, we estimate a risk of fatality among hospitalised cases at 14% (95% confidence interval: 3.9-32%).'],\n",
              "  'Real-time tentative assessment of the epidemiological characteristics of novel coronavirus infections in Wuhan, China, as at 22 January 2020.'),\n",
              " 'https://www.ncbi.nlm.nih.gov/pubmed/31992390': ([],\n",
              "  'Note from the editors: novel coronavirus (2019-nCoV).'),\n",
              " 'https://www.ncbi.nlm.nih.gov/pubmed/31994738': (['There is a worldwide concern about the new coronavirus 2019-nCoV as a global public health threat. In this article, we provide a preliminary evolutionary and molecular epidemiological analysis of this new virus. A phylogenetic tree has been built using the 15 available whole genome sequences of 2019-nCoV, 12 whole genome sequences of 2019-nCoV, and 12 highly similar whole genome sequences available in gene bank (five from the severe acute respiratory syndrome, two from Middle East respiratory syndrome, and five from bat SARS-like coronavirus). Fast unconstrained Bayesian approximation analysis shows that the nucleocapsid and the spike glycoprotein have some sites under positive pressure, whereas homology modeling revealed some molecular and structural differences between the viruses. The phylogenetic tree showed that 2019-nCoV significantly clustered with bat SARS-like coronavirus sequence isolated in 2015, whereas structural analysis revealed mutation in Spike Glycoprotein and nucleocapsid protein. From these results, the new 2019-nCoV is distinct from SARS virus, probably trasmitted from bats after mutation conferring ability to infect humans.'],\n",
              "  'The 2019-new coronavirus epidemic: Evidence for virus evolution.'),\n",
              " 'https://www.ncbi.nlm.nih.gov/pubmed/31994742': (['To help health workers and the public recognize and deal with the 2019 novel coronavirus (2019-nCoV) quickly, effectively and calmly with an updated understanding.'],\n",
              "  'Updated understanding of the outbreak of 2019 novel coronavirus (2019-nCoV) in Wuhan, China.'),\n",
              " 'https://www.ncbi.nlm.nih.gov/pubmed/31995857': (['The initial cases of novel coronavirus (2019-nCoV)-infected pneumonia (NCIP) occurred in Wuhan, Hubei Province, China, in December 2019 and January 2020. We analyzed data on the first 425 confirmed cases in Wuhan to determine the epidemiologic characteristics of NCIP.'],\n",
              "  'Early Transmission Dynamics in Wuhan, China, of Novel Coronavirus-Infected Pneumonia.'),\n",
              " 'https://www.ncbi.nlm.nih.gov/pubmed/31996437': ([\"Recently a novel coronavirus (2019-nCoV) has emerged from Wuhan, China, causing symptoms in humans similar to those caused by SARS coronavirus (SARS-CoV). Since SARS-CoV outbreak in 2002, extensive structural analyses have revealed key atomic-level interactions between SARS-CoV spike protein receptor-binding domain (RBD) and its host receptor angiotensin-converting enzyme 2 (ACE2), which regulate both the cross-species and human-to-human transmissions of SARS-CoV. Here we analyzed the potential receptor usage by 2019-nCoV, based on the rich knowledge about SARS-CoV and the newly released sequence of 2019-nCoV. First, the sequence of 2019-nCoV RBD, including its receptor-binding motif (RBM) that directly contacts ACE2, is similar to that of SARS-CoV, strongly suggesting that 2019-nCoV uses ACE2 as its receptor. Second, several critical residues in 2019-nCoV RBM (particularly Gln493) provide favorable interactions with human ACE2, consistent with 2019-nCoV's capacity for human cell infection. Third, several other critical residues in 2019-nCoV RBM (particularly Asn501) are compatible with, but not ideal for, binding human ACE2, suggesting that 2019-nCoV has acquired some capacity for human-to-human transmission. Last, while phylogenetic analysis indicates a bat origin of 2019-nCoV, 2019-nCoV also potentially recognizes ACE2 from a diversity of animal species (except mice and rats), implicating these animal species as possible intermediate hosts or animal models for 2019-nCoV infections. These analyses provide insights into the receptor usage, cell entry, host cell infectivity and animal origin of 2019-nCoV, and may help epidemic surveillance and preventive measures against 2019-nCoV.SignificanceThe recent emergence of Wuhan coronavirus (2019-nCoV) puts the world on alert. 2019-nCoV is reminiscent of the SARS-CoV outbreak in 2002-2003. Our decade-long structural studies on the receptor recognition by SARS-CoV have identified key interactions between SARS-CoV spike protein and its host receptor angiotensin-converting enzyme 2 (ACE2), which regulate both the cross-species and human-to-human transmissions of SARS-CoV. One of the goals of SARS-CoV research was to build an atomic-level iterative framework of virus-receptor interactions to facilitate epidemic surveillance, predict species-specific receptor usage, and identify potential animal hosts and animal models of viruses. Based on the sequence of 2019-nCoV spike protein, we apply this predictive framework to provide novel insights into the receptor usage and likely host range of 2019-nCoV. This study provides a robust test of this reiterative framework, providing the basic, translational and public health research communities with predictive insights that may help study and battle this novel 2019-nCoV.\"],\n",
              "  'Receptor recognition by novel coronavirus from Wuhan: An analysis based on decade-long structural studies of SARS.'),\n",
              " 'https://www.ncbi.nlm.nih.gov/pubmed/31996494': (['As of January 22, 2020, a total of 571 cases of the 2019-new coronavirus (2019-nCoV) have been reported in 25 provinces (districts and cities) in China. At present, there is no vaccine or antiviral treatment for human and animal coronavirus, so that identifying the drug treatment options as soon as possible is critical for the response to the 2019-nCoV outbreak. Three general methods, which include existing broad-spectrum antiviral drugs using standard assays, screening of a chemical library containing many existing compounds or databases, and the redevelopment of new specific drugs based on the genome and biophysical understanding of individual coronaviruses, are used to discover the potential antiviral treatment of human pathogen coronavirus. Lopinavir /Ritonavir, Nucleoside analogues, Neuraminidase inhibitors, Remdesivir, peptide (EK1), arbidol, RNA synthesis inhibitors (such as TDF, 3TC), anti-inflammatory drugs (such as hormones and other molecules), Chinese traditional medicine, such ShuFengJieDu Capsules and Lianhuaqingwen Capsule, could be the drug treatment options for 2019-nCoV. However, the efficacy and safety of these drugs for 2019- nCoV still need to be further confirmed by clinical experiments.'],\n",
              "  'Drug treatment options for the 2019-new coronavirus (2019-nCoV).'),\n",
              " 'https://www.ncbi.nlm.nih.gov/pubmed/32003000': ([],\n",
              "  'The novel Chinese coronavirus (2019-nCoV) infections: Challenges for fighting the storm.'),\n",
              " 'https://www.ncbi.nlm.nih.gov/pubmed/32003646': ([],\n",
              "  'CT Imaging of the 2019 Novel Coronavirus (2019-nCoV) Pneumonia.'),\n",
              " 'https://www.ncbi.nlm.nih.gov/pubmed/32004066': ([],\n",
              "  'Novel Wuhan (2019-nCoV) Coronavirus.'),\n",
              " 'https://www.ncbi.nlm.nih.gov/pubmed/32004427': ([\"An outbreak of novel coronavirus (2019-nCoV) that began in Wuhan, China, has spread rapidly, with cases now confirmed in multiple countries. We report the first case of 2019-nCoV infection confirmed in the United States and describe the identification, diagnosis, clinical course, and management of the case, including the patient's initial mild symptoms at presentation with progression to pneumonia on day 9 of illness. This case highlights the importance of close coordination between clinicians and public health authorities at the local, state, and federal levels, as well as the need for rapid dissemination of clinical information related to the care of patients with this emerging infection.\"],\n",
              "  'First Case of 2019 Novel Coronavirus in the United States.'),\n",
              " 'https://www.ncbi.nlm.nih.gov/pubmed/32004758': (['A novel coronavirus (2019-nCoV) associated with human to human transmission and severe human infection has been recently reported from the city of Wuhan in China. Our objectives were to characterize the genetic relationships of the 2019-nCoV and to search for putative recombination within the subgenus of sarbecovirus.'],\n",
              "  'Full-genome evolutionary analysis of the novel corona virus (2019-nCoV) rejects the hypothesis of emergence as a result of a recent recombination event.'),\n",
              " 'https://www.ncbi.nlm.nih.gov/pubmed/32006656': ([],\n",
              "  'The association between domestic train transportation and novel coronavirus (2019-nCoV) outbreak in China from 2019 to 2020: A data-driven correlational report.'),\n",
              " 'https://www.ncbi.nlm.nih.gov/pubmed/32006657': ([],\n",
              "  'The next big threat to global health? 2019 novel coronavirus (2019-nCoV): What advice can we give to travellers? - Interim recommendations January 2020, from the Latin-American society for Travel Medicine (SLAMVI).'),\n",
              " 'https://www.ncbi.nlm.nih.gov/pubmed/32007143': (['In December, 2019, a pneumonia associated with the 2019 novel coronavirus (2019-nCoV) emerged in Wuhan, China. We aimed to further clarify the epidemiological and clinical characteristics of 2019-nCoV pneumonia.'],\n",
              "  'Epidemiological and clinical characteristics of 99 cases of 2019 novel coronavirus pneumonia in Wuhan, China: a descriptive study.'),\n",
              " 'https://www.ncbi.nlm.nih.gov/pubmed/32007145': (['In late December, 2019, patients presenting with viral pneumonia due to an unidentified microbial agent were reported in Wuhan, China. A novel coronavirus was subsequently identified as the causative pathogen, provisionally named 2019 novel coronavirus (2019-nCoV). As of Jan 26, 2020, more than 2000 cases of 2019-nCoV infection have been confirmed, most of which involved people living in or visiting Wuhan, and human-to-human transmission has been confirmed.'],\n",
              "  'Genomic characterisation and epidemiology of 2019 novel coronavirus: implications for virus origins and receptor binding.'),\n",
              " 'https://www.ncbi.nlm.nih.gov/pubmed/32007627': (['A novel coronavirus designated as 2019-nCoV first appeared in Wuhan, China in late December 2019. Dozens of people died in China, and thousands of people infected as 2019-nCoV continues to spread around the world. We have described the discovery, emergence, genomic characteristics, and clinical diagnostics of 2019-nCoV.'],\n",
              "  'Novel coronavirus: From discovery to clinical diagnostics.'),\n",
              " 'https://www.ncbi.nlm.nih.gov/pubmed/32007643': (['An ongoing outbreak of a novel coronavirus (2019-nCoV) pneumonia hit a major city of China, Wuhan, December 2019 and subsequently reached other provinces/regions of China and countries. We present estimates of the basic reproduction number,R0, of 2019-nCoV in the early phase of the outbreak.'],\n",
              "  'Preliminary estimation of the basic reproduction number of novel coronavirus (2019-nCoV) in China, from 2019 to 2020: A data-driven analysis in the early phase of the outbreak.'),\n",
              " 'https://www.ncbi.nlm.nih.gov/pubmed/32010938': ([],\n",
              "  'Travelers Give Wings to Novel Coronavirus (2019-nCoV).'),\n",
              " 'https://www.ncbi.nlm.nih.gov/pubmed/32013795': ([],\n",
              "  '2019 Novel Coronavirus (2019-nCoV) Pneumonia.'),\n",
              " 'https://www.ncbi.nlm.nih.gov/pubmed/32014114': (['Since Dec 31, 2019, the Chinese city of Wuhan has reported an outbreak of atypical pneumonia caused by the 2019 novel coronavirus (2019-nCoV). Cases have been exported to other Chinese cities, as well as internationally, threatening to trigger a global outbreak. Here, we provide an estimate of the size of the epidemic in Wuhan on the basis of the number of cases exported from Wuhan to cities outside mainland China and forecast the extent of the domestic and global public health risks of epidemics, accounting for social and non-pharmaceutical prevention interventions.'],\n",
              "  'Nowcasting and forecasting the potential domestic and international spread of the 2019-nCoV outbreak originating in Wuhan, China: a modelling study.'),\n",
              " 'https://www.ncbi.nlm.nih.gov/pubmed/32015507': (['Since the SARS outbreak 18 years ago, a large number of severe acute respiratory syndrome-related coronaviruses (SARSr-CoV) have been discovered in their natural reservoir host, bats1-4. Previous studies indicated that some of those bat SARSr-CoVs have the potential to infect humans5-7. Here we report the identification and characterization of a novel coronavirus (2019-nCoV) which caused an epidemic of acute respiratory syndrome in humans in Wuhan, China. The epidemic, which started from 12 December 2019, has caused 2,050 laboratory-confirmed infections with 56 fatal cases by 26 January 2020. Full-length genome sequences were obtained from five patients at the early stage of the outbreak. They are almost identical to each other and share 79.5% sequence identify to SARS-CoV. Furthermore, it was found that 2019-nCoV is 96% identical at the whole-genome level to a bat coronavirus. The pairwise protein sequence analysis of seven conserved non-structural proteins show that this virus belongs to the species of SARSr-CoV. The 2019-nCoV virus was then isolated from the bronchoalveolar lavage fluid of a critically ill patient, which can be neutralized by sera from several patients. Importantly, we have confirmed that this novel CoV uses the same cell entry receptor, ACE2, as SARS-CoV.'],\n",
              "  'A pneumonia outbreak associated with a new coronavirus of probable bat origin.'),\n",
              " 'https://www.ncbi.nlm.nih.gov/pubmed/32017153': (['What emerged in December 2019 as a cluster of respiratory ailments with inexplicable etiological findings in Wuhan has now claimed roughly 259 lives, sickened nearly 12 thousand more, and spread to at least 26 more nations including Hong Kong, Taiwan and Macao. This article is protected by copyright. All rights reserved.'],\n",
              "  'Updates on Wuhan 2019 Novel Coronavirus Epidemic.'),\n",
              " 'https://www.ncbi.nlm.nih.gov/pubmed/32017661': (['In this retrospective case series, chest CT scans of 21 symptomatic patients from China infected with the 2019 Novel Coronavirus (2019-nCoV) were reviewed with emphasis on identifying and characterizing the most common findings. Typical CT findings included bilateral pulmonary parenchymal ground-glass and consolidative pulmonary opacities, sometimes with a rounded morphology and a peripheral lung distribution. Notably, lung cavitation, discrete pulmonary nodules, pleural effusions, and lymphadenopathy were absent. Follow-up imaging in a subset of patients during the study time window often demonstrated mild or moderate progression of disease as manifested by increasing extent and density of lung opacities.'],\n",
              "  'CT Imaging Features of 2019 Novel Coronavirus (2019-nCoV).'),\n",
              " 'https://www.ncbi.nlm.nih.gov/pubmed/32017662': ([],\n",
              "  'Chest CT Findings in 2019 Novel Coronavirus (2019-nCoV) Infections from Wuhan, China: Key Points for the Radiologist.'),\n",
              " 'https://www.ncbi.nlm.nih.gov/pubmed/32017984': (['On 10 January 2020, a new coronavirus causing a pneumonia outbreak in Wuhan City in central China was denoted as 2019-nCoV by the World Health Organization (WHO). As of 24 January 2020, there were 887 confirmed cases of 2019-nCoV infection, including 26 deaths, reported in China and other countries. Therefore, combating this new virus and stopping the epidemic is a matter of urgency. Here, we focus on advances in research and development of fast diagnosis methods, as well as potential prophylactics and therapeutics to prevent or treat 2019-nCoV infection.'],\n",
              "  'Measures for diagnosing and treating infections by a novel coronavirus responsible for a pneumonia outbreak originating in Wuhan, China.'),\n",
              " 'https://www.ncbi.nlm.nih.gov/pubmed/32019636': ([],\n",
              "  'Note from the editors: World Health Organization declares novel coronavirus (2019-nCoV) sixth public health emergency of international concern.'),\n",
              " 'https://www.ncbi.nlm.nih.gov/pubmed/32019667': (['As at 27 January 2020, 42 novel coronavirus (2019-nCoV) cases were confirmed outside China. We estimate the risk of case importation to Europe from affected areas in China via air travel. We consider travel restrictions in place, three reported cases in France, one in Germany. Estimated risk in Europe remains high. The United Kingdom, Germany and France are at highest risk. Importation from Beijing and Shanghai would lead to higher and widespread risk for Europe.'],\n",
              "  'Novel coronavirus (2019-nCoV) early-stage importation risk to Europe, January 2020.'),\n",
              " 'https://www.ncbi.nlm.nih.gov/pubmed/32019669': (['Since December 2019, China has been experiencing a large outbreak of a novel coronavirus (2019-nCoV) which can cause respiratory disease and severe pneumonia. We estimated the basic reproduction number R0 of 2019-nCoV to be around 2.2 (90% high density interval: 1.4-3.8), indicating the potential for sustained human-to-human transmission. Transmission characteristics appear to be of similar magnitude to severe acute respiratory syndrome-related coronavirus (SARS-CoV) and pandemic influenza, indicating a risk of global spread.'],\n",
              "  'Pattern of early human-to-human transmission of Wuhan 2019 novel coronavirus (2019-nCoV), December 2019 to January 2020.'),\n",
              " 'https://www.ncbi.nlm.nih.gov/pubmed/32020029': ([],\n",
              "  'Remdesivir and chloroquine effectively inhibit the recently emerged novel coronavirus (2019-nCoV) in vitro.'),\n",
              " 'https://www.ncbi.nlm.nih.gov/pubmed/32020836': (['From December 2019, an outbreak of unusual pneumonia was reported in Wuhan with many cases linked to Huanan Seafood Market that sells seafood as well as live exotic animals. We investigated two patients who developed acute respiratory syndromes after independent contact history with this market. The two patients shared common clinical features including fever, cough, and multiple ground-glass opacities in the bilateral lung field with patchy infiltration. Here, we highlight the use of a low-input metagenomic next-generation sequencing (mNGS) approach on RNA extracted from bronchoalveolar lavage fluid (BALF). It rapidly identified a novel coronavirus (named 2019-nCoV according to World Health Organization announcement) which was the sole pathogens in the sample with very high abundance level (1.5% and 0.62% of total RNA sequenced). The entire viral genome is 29,881\\u2005nt in length (GenBank MN988668 and MN988669, Sequence Read Archive database Bioproject accession PRJNA601736) and is classified into β-coronavirus genus. Phylogenetic analysis indicates that 2019-nCoV is close to coronaviruses (CoVs) circulating in Rhinolophus (Horseshoe bats), such as 98.7% nucleotide identity to partial RdRp gene of bat coronavirus strain BtCoV/4991 (GenBank KP876546, 370\\u2005nt sequence of RdRp and lack of other genome sequence) and 87.9% nucleotide identity to bat coronavirus strain bat-SL-CoVZC45 and bat-SL-CoVZXC21. Evolutionary analysis based on ORF1a/1b, S, and N genes also suggests 2019-nCoV is more likely a novel CoV independently introduced from animals to humans.'],\n",
              "  'RNA based mNGS approach identifies a novel human coronavirus from two individual pneumonia cases in 2019 Wuhan outbreak.'),\n",
              " 'https://www.ncbi.nlm.nih.gov/pubmed/32020915': (['The novel coronavirus (2019-nCoV) outbreak, which initially began in China, has spread to many countries around the globe, with the number of confirmed cases increasing every day. With a death toll exceeding that of the SARS-CoV outbreak back in 2002 and 2003 in China, 2019-nCoV has led to a public health emergency of international concern, putting all health organizations on high alert. Herein, we present on an overview of the currently available information on the pathogenesis, epidemiology, clinical presentation, diagnosis, and treatment of this virus.'],\n",
              "  \"The Novel Coronavirus: A Bird's Eye View.\"),\n",
              " 'https://www.ncbi.nlm.nih.gov/pubmed/32022275': (['A novel Coronavirus, 2019-nCoV, has been identified as the causal pathogen of an ongoing epidemic, with the first cases reported in Wuhan, China, last December 2019, and has since spread to other countries worldwide, included Europe and very recently Italy. In this short report, phylogenetic reconstruction was used to better understand the transmission dynamic of the virus from its first introduction in China focusing on the more recent evidence of infection in a couple of Chinese tourists arrived in Italy on 23rd January 2020 and labeled as Coronavirus Italian cases. A Maximum Clade Credibility tree has been built using a dataset of 54 genome sequences of 2019-nCoV plus 2 closely related bat strains (SARS-like CoV) available in GeneBank. Bayesian time-scaled phylogenetic analysis was implemented in BEAST 1.10.4. The Bayesian phylogenetic reconstruction showed that the 2019-2020 nCoV firstly introduced in Wuhan on the 25th November 2019, started epidemic transmission reaching many countries worldwide, including Europe and Italy where the two strains isolated dated back 19th January 2020, the same that the Chinese tourists arrived in Italy. Strains isolated outside China were intermixed with strains isolated in China as evidence of likely imported cases in Rome, Italy and Europe, as well. In conclusion, this report suggests that further spread of 2019-nCoV epidemic was supported by human mobility and that quarantine of suspected or diagnosed cases is useful to prevent further transmission. Viral genome phylogenetic analysis represents a useful tool for evaluation of transmission dynamics and preventive action. This article is protected by copyright. All rights reserved.'],\n",
              "  'The first two cases of 2019-nCoV in Italy: where they come from?'),\n",
              " 'https://www.ncbi.nlm.nih.gov/pubmed/32022276': (['The 2019 novel coronavirus (2019-nCoV) outbreak has caused a large number of deaths with thousands of confirmed cases worldwide, especially in East Asia. This study took an immunoinformatics approach to identify significant cytotoxic T lymphocyte (CTL) and B cell epitopes in the 2019-nCoV surface glycoprotein. Also, interactions between identified CTL epitopes and their corresponding MHC class I supertype representatives prevalent in China were studied by molecular dynamics simulations. We identified five CTL epitopes, three sequential B cell epitopes and five discontinuous B cell epitopes in the viral surface glycoprotein. Also, during simulations, the CTL epitopes were observed to be binding MHC class I peptide-binding grooves via multiple contacts, with continuous hydrogen bonds and salt bridge anchors, indicating their potential in generating immune responses. Some of these identified epitopes can be potential candidates for development of 2019-nCoV vaccines. This article is protected by copyright. All rights reserved.'],\n",
              "  'Immunoinformatics-aided identification of T cell and B cell epitopes in the surface glycoprotein of 2019-nCoV.'),\n",
              " 'https://www.ncbi.nlm.nih.gov/pubmed/32023340': ([],\n",
              "  'Reporting, Epidemic Growth, and Reproduction Numbers for the 2019 Novel Coronavirus (2019-nCoV) Epidemic.'),\n",
              " 'https://www.ncbi.nlm.nih.gov/pubmed/32023427': ([],\n",
              "  'The 2019 Novel Coronavirus (2019-nCoV): Novel Virus, Old Challenges.'),\n",
              " 'https://www.ncbi.nlm.nih.gov/pubmed/32023680': (['目前2019新型冠状病毒（2019 Novel Coronavirus, 2019-nCoV）感染的疫情进入了一个严峻而复杂的局面。截止2020年2月1日，全国已有超过11000例新型冠状病毒感染确诊病例，给社会和经济带来极大影响，也严重影响着耳鼻咽喉头颈外科的日常医疗运行。本文针对耳鼻咽喉头颈外科的门诊及病房手术各个环节所需的医务防护措施进行讨论和建议，以期减少在2019-nCoV爆发和流行期耳鼻咽喉头颈外科医护人员的感染。.'],\n",
              "  '[Suggestions for prevention of 2019 novel coronavirus infection in otolaryngology head and neck surgery medical staff].'),\n",
              " 'https://www.ncbi.nlm.nih.gov/pubmed/32023681': (['2019年12月以来，我国陆续出现2019新型冠状病毒(2019-nCoV)感染引起的以肺部病变为主的新型传染病。临床特征是发热、干咳、气促及X线胸片炎症性改变等。我国已将2019-nCoV感染的肺炎定为法定传染病。为规范这一新发突发传染病的诊疗，特制订北京协和医院关于\"2019-nCoV感染的肺炎\"诊疗建议方案。.'],\n",
              "  '[Diagnosis and clinical management of 2019 novel coronavirus infection: an operational recommendation of Peking Union Medical College Hospital (V2.0)].'),\n",
              " 'https://www.ncbi.nlm.nih.gov/pubmed/32023682': (['2019年岁末，在武汉暴发新型冠状病毒（2019-nCoV）引起的肺炎流行，给我国公共卫生和临床救治带来巨大挑战。2019-nCoV属于冠状病毒科β冠状病毒属，与严重急性呼吸综合征相关冠状病毒（SARS-CoV）和中东呼吸综合征相关冠状病毒（MERS-CoV）近缘，都会导致严重肺炎症状。该病毒经飞沫、接触等途径传播，潜伏期患者即具备传播性。目前数据表明：2019-nCoV比SARS-CoV毒力弱，但传播力强；造成其能够跨种传播的受体可能与SARS-CoV一致，都是血管紧张素转化酶Ⅱ（ACE2）。在此疾病暴发后，我国科技人员投入大量精力开展研究，快速开发出诊断试剂，初步确定了病原特性，并已筛选出可能抑制该病毒的临床药物，也正在加快研发疫苗。2019-nCoV的出现再次提醒我们建立系统的冠状病毒监测网络的重要性；也给突发疫情防控和应急科研提出了新挑战。.'],\n",
              "  '[2019-nCoV: new challenges from coronavirus].'),\n",
              " 'https://www.ncbi.nlm.nih.gov/pubmed/32023684': (['2019年末湖北武汉，首先发现以\"不明原因发热伴肺炎\"为主要症状的散发和聚集性病例，经确认是由2019-nCoV新型冠状病毒感染所致，疫情由早期确诊病例逐渐增加到近一月余全国各省份和其他国家出现蔓延态势。全国各医疗机构、各部门动员力量，采取多种措施，积极救治病人、扼制疫情进展。笔者用现有研究发现和资料，对此新型病毒的特点、对疾病的临床规律和诊疗重点、对确诊和疑似病例的临床科学管理以及对传染病防控的科学管理，进行了总结归纳并提出了思考。.'],\n",
              "  '[Efficient management of novel coronavirus pneumonia by efficient prevention and control in scientific manner].'),\n",
              " 'https://www.ncbi.nlm.nih.gov/pubmed/32023685': (['2019新型冠状病毒(2019-nCoV)是武汉不明原因肺炎的致病原。2019-nCoV在遗传学上与一种蝙蝠来源的新型冠状病毒比较接近，与SARS-CoV、MERS-CoV同为β属冠状病毒。目前临床上常用的抗病毒药物，包括神经氨酸酶抑制剂（奥司他韦、帕拉米韦、扎那米韦等）、更昔洛韦、阿昔洛韦、利巴韦林等药物对2019-nCoV均无效，不建议临床应用。目前研究证实可能有效的药物包括：瑞德西韦、洛匹那韦/利托那韦、洛匹那韦/利托那韦联合干扰素-β、恢复期血浆、单克隆抗体。但这些药物在2019-nCoV肺炎患者中的疗效和安全性有待进一步临床实验证实。.'],\n",
              "  '[Potential antiviral therapeutics for 2019 Novel Coronavirus].'),\n",
              " 'https://www.ncbi.nlm.nih.gov/pubmed/32023687': (['2019新型冠状病毒（2019-nCoV）感染的肺炎具有高度传染性，本文结合4S（simple，safe，satisfy，save）呼吸康复内容和2019新型冠状病毒肺炎的诊治标准，对2019-nCoV所致的肺炎患者提供可行的呼吸康复指引。.'],\n",
              "  '[Pulmonary rehabilitation guidelines in the principle of 4S for patients infected with 2019 novel coronavirus (2019-nCoV)].'),\n",
              " 'https://www.ncbi.nlm.nih.gov/pubmed/32023775': (['The 2019-nCoV from Wuhan, China is now recognized as a public health emergency of global concern.'],\n",
              "  'Epidemiological characteristics of 2019 novel coronavirus: an interim review.'),\n",
              " 'https://www.ncbi.nlm.nih.gov/pubmed/32024089': (['In December 2019, an outbreak of respiratory illness caused by a novel coronavirus (2019-nCoV) emerged in Wuhan, China and has swiftly spread to other parts of China and a number of foreign countries. The 2019-nCoV cases might have been under-reported roughly from 1 to 15 January 2020, and thus we estimated the number of unreported cases and the basic reproduction number, R0, of 2019-nCoV.'],\n",
              "  'Estimating the Unreported Number of Novel Coronavirus (2019-nCoV) Cases in China in the First Half of January 2020: A Data-Driven Modelling Analysis of the Early Outbreak.'),\n",
              " 'https://www.ncbi.nlm.nih.gov/pubmed/32024976': ([],\n",
              "  'A novel coronavirus (2019-nCoV) causing pneumonia-associated respiratory syndrome.'),\n",
              " 'https://www.ncbi.nlm.nih.gov/pubmed/32026148': ([\"Since December 2019, an epidemic caused by novel coronavirus (2019-nCoV) infection has occurred unexpectedly in China. As of 8 pm, 31 January 2020, more than 20 pediatric cases have been reported in China. Of these cases,\\xa0ten patients were identified in Zhejiang Province, with an age of onset ranging from 112\\xa0days to 17\\xa0years. Following the latest National recommendations for diagnosis and treatment of pneumonia caused by 2019-nCoV (the 4th edition) and current status of clinical practice in Zhejiang Province, recommendations for the diagnosis and treatment of respiratory infection caused by 2019-nCoV for children were drafted by the National Clinical Research Center for Child Health, the\\xa0National Children's Regional Medical Center, Children's Hospital, Zhejiang University School of Medicine to further standardize the protocol for diagnosis and treatment of respiratory infection in children caused by 2019-nCoV.\"],\n",
              "  'Diagnosis and treatment recommendations for pediatric respiratory infection caused by the 2019 novel coronavirus.'),\n",
              " 'https://www.ncbi.nlm.nih.gov/pubmed/32026671': (['目的： 分析2019新型冠状病毒（2019-nCoV）肺炎患者的临床特征，研究患者血清中炎症相关细胞因子与病情严重程度的相关性。 方法： 选取2020年1月在华中科技大学同济医学院附属同济医院隔离病房收治的29例2019-nCoV患者为研究对象，收集临床资料，分析一般情况、临床症状、血液检验及CT影像学的特征。根据相关诊断标准将患者分为普通型（15例）、重型（9例）和危重型（5例）3组。检测各组患者血清中炎症相关细胞因子及其他反应病情变化标志物的表达水平，比较和分析3组患者血清中上述各指标变化的规律及其与疾病临床分型的关系。 结果： （1）2019-nCoV肺炎患者的主要临床症状为发热（28/29），伴或不伴有呼吸道及其他系统症状；2例死亡患者分别合并基础疾病和混合细菌感染。（2）患者外周血一般表现为白细胞总数正常或减低（23/29），淋巴细胞计数减少（20/29），超敏C-反应蛋白（hs-CRP）增高（27/29），降钙素原正常。多数患者血清中乳酸脱氢酶（LDH）表达水平明显增高（20/29），白蛋白减低（15/29）；而丙氨酸氨基转移酶（ALT）,天冬氨酸氨基转移酶（AST），总胆红素（Tbil），血肌酐（Scr）等指标无明显变化。（3）典型病例的CT表现为单发或多发的斑片状磨玻璃影，伴有小叶间隔增厚；疾病进展时病灶增多、范围扩大，磨玻璃影与实变影或条索影共存，部分重症患者表现为双肺弥漫性病变。（4）3组患者血清中白细胞介素-2受体（IL-2R）、IL-6表达水平差异均具有统计学意义（P<0.05），其中危重型高于重型、重型高于普通型。而3组研究对象血清中的肿瘤坏死因子-α（TNF-α）、IL-1β、IL-8、IL-10、hs-CRP、淋巴细胞计数、LDH表达水平差异均无统计学意义（P>0.05）。 结论： 2019新型冠状病毒肺炎的临床特征与一般病毒性肺炎类似；高分辨率CT有助于鉴别诊断；患者血清中IL-2R、IL-6表达水平有助于疾病临床分型，可能有助于预测新冠肺炎的严重程度和预后。.'],\n",
              "  '[Analysis of clinical features of 29 patients with 2019 novel coronavirus pneumonia].'),\n",
              " 'https://www.ncbi.nlm.nih.gov/pubmed/32027036': (['There is rising global concern for the recently emerged novel Coronavirus (2019-nCov). Full genomic sequences have been released by the worldwide scientific community in the last few weeks in order to understand the evolutionary origin and molecular characteristics of this virus. Taking advantage of all the genomic information currently available, we constructed a phylogenetic tree including also representatives of other coronaviridae, such as Bat coronavirus (BCoV) and SARS. We confirm high sequence similarity (>99%) between all sequenced 2019-nCoVs genomes available, with the closest BCoV sequence sharing 96.2% sequence identity, confirming the notion of a zoonotic origin of 2019-nCoV. Despite the low heterogeneity of the 2019-nCoV genomes, we could identify at least two hyper-variable genomic hotspots, one of which is responsible for a Serine/Leucine variation in the viral ORF8-encoded protein. Finally, we perform a full proteomic comparison with other coronaviridae, identifying key aminoacidic differences to be considered for antiviral strategies deriving from previous anti-coronavirus approaches. This article is protected by copyright. All rights reserved.'],\n",
              "  'Genomic variance of the 2019-nCoV coronavirus.'),\n",
              " 'https://www.ncbi.nlm.nih.gov/pubmed/32027573': (['Background The chest CT findings of patients with coronavirus 2019-nCoV pneumonia have not previously been described in detail. Purpose To investigate the clinical, laboratory, and imaging findings of emerging coronavirus 2019-nCoV pneumonia in humans. Materials and Methods Fifty-one patients (25 men and 26 women, 16-76 years old) with 2019-nCoV pneumonia confirmed with the positive new coronavirus nucleic acid antibody underwent thin-section CT. The imaging findings, clinical and laboratory data were evaluated. Results Fifty of 51 patients (98%) had a history of the endemic center Wuhan contact. Fever (49/51, 96%) and cough (24/51, 47%) were the most common symptoms. Most patients had a normal white blood cell count (37/51, 73%), neutrophil count (44/51, 86.3%) and normal (17/51, 35.3%) or reduced (33/51, 64.7%) lymphocyte count. CT images showed pure ground grass opacity (GGO) in 39/51 (77%) patients, GGO with reticular and/or interlobular septal thickening in 38/51 (75%) patients. GGO with consolidation was present in 30/51 (59%) and pure consolidation in 28/51 (55%) patients. 44/51 (86%) patients had bilateral lung involvement, while 41/51 (80%) involved the posterior part of the lungs and 44/51 (86%) were peripheral. There were more consolidated lung lesions in patients 5 or more days from disease onset to CT scan versus 4 or fewer days (431/712 lesions vs. 129/612 lesions, p < 0.001). Patients more than 50 years old had more consolidated lung lesions than those 50 years or younger (212/470 vs. 198/854, p < 0.001). Follow up CT in 13 patients showed improvement in 7 (54%) patients and progression in 4 (31%) patients. Conclusions Patients with fever and/or cough and with conspicuous ground grass opacity lesions in the peripheral and posterior lungs on CT images combined with normal or decreased white blood cells and a history of epidemic exposure are highly suspected of 2019-nCoV pneumonia.'],\n",
              "  'Emerging Coronavirus 2019-nCoV Pneumonia.'),\n",
              " 'https://www.ncbi.nlm.nih.gov/pubmed/32027631': (['On December 31, 2019, Chinese health officials reported a cluster of cases of acute respiratory illness in persons associated with the Hunan seafood and animal market in the city of Wuhan, Hubei Province, in central China. On January 7, 2020, Chinese health officials confirmed that a novel coronavirus (2019-nCoV) was associated with this initial cluster (1). As of February 4, 2020, a total of 20,471 confirmed cases, including 2,788 (13.6%) with severe illness,* and 425 deaths (2.1%) had been reported by the National Health Commission of China (2). Cases have also been reported in 26 locations outside of mainland China, including documentation of some person-to-person transmission and one death (2). As of February 4, 11 cases had been reported in the United States. On January 30, the World Health Organization (WHO) Director-General declared that the 2019-nCoV outbreak constitutes a Public Health Emergency of International Concern.† On January 31, the U.S. Department of Health and Human Services (HHS) Secretary declared a U.S. public health emergency to respond to 2019-nCoV.§ Also on January 31, the president of the United States signed a \"Proclamation on Suspension of Entry as Immigrants and Nonimmigrants of Persons who Pose a Risk of Transmitting 2019 Novel Coronavirus,\" which limits entry into the United States of persons who traveled to mainland China to U.S. citizens and lawful permanent residents and their families (3). CDC, multiple other federal agencies, state and local health departments, and other partners are implementing aggressive measures to slow transmission of 2019-nCoV in the United States (4,5). These measures require the identification of cases and their contacts in the United States and the appropriate assessment and care of travelers arriving from mainland China to the United States. These measures are being implemented in anticipation of additional 2019-nCoV cases in the United States. Although these measures might not prevent the eventual establishment of ongoing, widespread transmission of the virus in the United States, they are being implemented to 1) slow the spread of illness; 2) provide time to better prepare health care systems and the general public to be ready if widespread transmission with substantial associated illness occurs; and 3) better characterize 2019-nCoV infection to guide public health recommendations and the development of medical countermeasures including diagnostics, therapeutics, and vaccines. Public health authorities are monitoring the situation closely. As more is learned about this novel virus and this outbreak, CDC will rapidly incorporate new knowledge into guidance for action by CDC and state and local health departments.'],\n",
              "  'Initial Public Health Response and Interim Clinical Guidance for the 2019 Novel Coronavirus Outbreak - United States, December 31, 2019-February 4, 2020.'),\n",
              " 'https://www.ncbi.nlm.nih.gov/pubmed/32027812': (['This is the first epidemiological report of novel coronavirus (2019-nCoV) acute respiratory disease infections reported in Australia at 19:00 Australian Eastern Daylight Time [AEDT] 1 February 2020. It includes data on Australian cases notified during the week 26 January to 1 February 2020 and in the previous week (19 to 25 January 2020), the international situation and current information on the severity, transmission and spread of the 2019-nCoV infection.'],\n",
              "  '2019-nCoV acute respiratory disease, Australia: Epidemiology Report 1 (Reporting week 26 January - 1 February 2020).'),\n",
              " 'https://www.ncbi.nlm.nih.gov/pubmed/32029004': (['In December 2019, a new type viral pneumonia cases occurred in Wuhan, Hubei Province; and then named \"2019 novel coronavirus (2019-nCoV)\" by the World Health Organization (WHO) on 12 January 2020. For it is a never been experienced respiratory disease before and with infection ability widely and quickly, it attracted the world\\'s attention but without treatment and control manual. For the request from frontline clinicians and public health professionals of 2019-nCoV infected pneumonia management, an evidence-based guideline urgently needs to be developed. Therefore, we drafted this guideline according to the rapid advice guidelines methodology and general rules of WHO guideline development; we also added the first-hand management data of Zhongnan Hospital of Wuhan University. This guideline includes the guideline methodology, epidemiological characteristics, disease screening and population prevention, diagnosis, treatment and control (including traditional Chinese Medicine), nosocomial infection prevention and control, and disease nursing of the 2019-nCoV. Moreover, we also provide a whole process of a successful treatment case of the severe 2019-nCoV infected pneumonia and experience and lessons of hospital rescue for 2019-nCoV infections. This rapid advice guideline is suitable for the first frontline doctors and nurses, managers of hospitals and healthcare sections, community residents, public health persons, relevant researchers, and all person who are interested in the 2019-nCoV.'],\n",
              "  'A rapid advice guideline for the diagnosis and treatment of 2019 novel coronavirus (2019-nCoV) infected pneumonia (standard version).'),\n",
              " 'https://www.ncbi.nlm.nih.gov/pubmed/32030925': (['In December 2019, a viral pneumonia outbreak caused by a novel betacoronavirus, the 2019 novel coronavirus (2019-nCoV), began in Wuhan, China. We report the epidemiological and clinical features of the first patient with 2019-nCoV pneumonia imported into Korea from Wuhan. This report suggests that in the early phase of 2019-nCoV pneumonia, chest radiography would miss patients with pneumonia and highlights taking travel history is of paramount importance for early detection and isolation of 2019-nCoV cases.'],\n",
              "  'The First Case of 2019 Novel Coronavirus Pneumonia Imported into Korea from Wuhan, China: Implication for Infection Prevention and Control Measures.'),\n",
              " 'https://www.ncbi.nlm.nih.gov/pubmed/32031234': ([],\n",
              "  '2019-novel Coronavirus (2019-nCoV): estimating the case fatality rate - a word of caution.'),\n",
              " 'https://www.ncbi.nlm.nih.gov/pubmed/32031481': ([],\n",
              "  'CT Manifestations of Two Cases of 2019 Novel Coronavirus (2019-nCoV) Pneumonia.'),\n",
              " 'https://www.ncbi.nlm.nih.gov/pubmed/32031570': (['In December 2019, novel coronavirus (2019-nCoV)-infected pneumonia (NCIP) occurred in Wuhan, China. The number of cases has increased rapidly but information on the clinical characteristics of affected patients is limited.'],\n",
              "  'Clinical Characteristics of 138 Hospitalized Patients With 2019 Novel Coronavirus-Infected Pneumonia in Wuhan, China.'),\n",
              " 'https://www.ncbi.nlm.nih.gov/pubmed/32031583': (['A novel coronavirus of zoonotic origin (2019-nCoV) has recently been identified in patients with acute respiratory disease. This virus is genetically similar to SARS coronavirus and bat SARS-like coronaviruses. The outbreak was initially detected in Wuhan, a major city of China, but has subsequently been detected in other provinces of China. Travel-associated cases have also been reported in a few other countries. Outbreaks in health care workers indicate human-to-human transmission. Molecular tests for rapid detection of this virus are urgently needed for early identification of infected patients.'],\n",
              "  'Molecular Diagnosis of a Novel Coronavirus (2019-nCoV) Causing an Outbreak of Pneumonia.'),\n",
              " 'https://www.ncbi.nlm.nih.gov/pubmed/32031590': ([],\n",
              "  'Racing towards the development of diagnostics for a novel coronavirus (2019-nCoV).'),\n",
              " 'https://www.ncbi.nlm.nih.gov/pubmed/32032497': ([],\n",
              "  'Evolution of CT Manifestations in a Patient Recovered from 2019 Novel Coronavirus (2019-nCoV) Pneumonia in Wuhan, China.'),\n",
              " 'https://www.ncbi.nlm.nih.gov/pubmed/32032682': (['A zoonotic coronavirus, labeled as 2019-nCoV by The World Health Organization (WHO), has been identified as the causative agent of the viral pneumonia outbreak in Wuhan, China, at the end of 2019. Although 2019-nCoV can cause a severe respiratory illness like SARS and MERS, evidence from clinics suggested that 2019-nCoV is generally less pathogenic than SARS-CoV, and much less than MERS-CoV. The transmissibility of 2019-nCoV is still debated and needs to be further assessed. To avoid the 2019-nCoV outbreak turning into an epidemic or even a pandemic and to minimize the mortality rate, China activated emergency response procedures, but much remains to be learned about the features of the virus to refine the risk assessment and response. Here, the current knowledge in 2019-nCoV pathogenicity and transmissibility is summarized in comparison with several commonly known emerging viruses, and information urgently needed for a better control of the disease is highlighted.'],\n",
              "  'Pathogenicity and Transmissibility of 2019-nCoV-A Quick Overview and Comparison with Other Emerging Viruses.')}"
            ]
          },
          "metadata": {
            "tags": []
          },
          "execution_count": 11
        }
      ]
    },
    {
      "cell_type": "code",
      "metadata": {
        "id": "35f3R_QnoAkT",
        "colab_type": "code",
        "outputId": "0e00c369-f97d-40d7-d805-34498c973b56",
        "colab": {
          "base_uri": "https://localhost:8080/",
          "height": 102
        }
      },
      "source": [
        "from main import main\n",
        "import nltk\n",
        "import re\n",
        "nltk.download('stopwords') \n",
        "nltk.download('punkt')"
      ],
      "execution_count": 19,
      "outputs": [
        {
          "output_type": "stream",
          "text": [
            "[nltk_data] Downloading package stopwords to /root/nltk_data...\n",
            "[nltk_data]   Unzipping corpora/stopwords.zip.\n",
            "[nltk_data] Downloading package punkt to /root/nltk_data...\n",
            "[nltk_data]   Unzipping tokenizers/punkt.zip.\n"
          ],
          "name": "stdout"
        },
        {
          "output_type": "execute_result",
          "data": {
            "text/plain": [
              "True"
            ]
          },
          "metadata": {
            "tags": []
          },
          "execution_count": 19
        }
      ]
    },
    {
      "cell_type": "code",
      "metadata": {
        "id": "qXL7LVYFoBa5",
        "colab_type": "code",
        "outputId": "5602dc85-b6a0-408e-fffb-9c97e07f19f5",
        "colab": {
          "base_uri": "https://localhost:8080/",
          "height": 292
        }
      },
      "source": [
        "%%time\n",
        "main(p_data=pubmed_MAP,\n",
        "     b_data=biorxiv_MAP, \n",
        "     p_gif_name=\"3d_pubmded.gif\",\n",
        "     b_gif_name=\"3d_bioxriv.gif\",\n",
        "     p_wc_name=\"pubmed_wordcloud\",\n",
        "     b_wc_name_mask=\"bioxriv_wordcloud_mask\",\n",
        "     b_wc_name=\"bioxriv_wordcloud\",\n",
        "     p_wc_name_mask=\"pubmed_wordcloud_mask\",\n",
        "     p_pdf_name=\"pubmed\",\n",
        "     b_pdf_name=\"bioxriv\",\n",
        "     p_site=\"PubMed\",\n",
        "     b_site=\"bioRxiv\", \n",
        "     b_2d_name1=\"biorxiv_tsne_2d_dots.png\",\n",
        "     b_2d_name2=\"biorxiv_tsne_2d_words.png\",\n",
        "     p_2d_name1=\"pubmed_tsne_2d_dots.png\",\n",
        "     p_2d_name2=\"pubmed_tsne_2d_words.png\", \n",
        "     b_sim_name=\"bioxriv_similar_words.png\", \n",
        "     p_sim_name=\"pubmed_similar_words.png\",\n",
        "     theme=THEME,\n",
        "     mask=MASK, \n",
        "     img_promo=PROMO)"
      ],
      "execution_count": 20,
      "outputs": [
        {
          "output_type": "stream",
          "text": [
            "Num articles: 72\n",
            "Num senteces: 230\n",
            "Num articles: 42\n",
            "Num senteces: 259\n"
          ],
          "name": "stdout"
        },
        {
          "output_type": "stream",
          "text": [
            "/usr/local/lib/python3.6/dist-packages/matplotlib/collections.py:857: RuntimeWarning: invalid value encountered in sqrt\n",
            "  scale = np.sqrt(self._sizes) * dpi / 72.0 * self._factor\n",
            "/usr/local/lib/python3.6/dist-packages/gensim/matutils.py:737: FutureWarning: Conversion of the second argument of issubdtype from `int` to `np.signedinteger` is deprecated. In future, it will be treated as `np.int64 == np.dtype(int).type`.\n",
            "  if np.issubdtype(vec.dtype, np.int):\n",
            "/usr/local/lib/python3.6/dist-packages/gensim/matutils.py:737: FutureWarning: Conversion of the second argument of issubdtype from `int` to `np.signedinteger` is deprecated. In future, it will be treated as `np.int64 == np.dtype(int).type`.\n",
            "  if np.issubdtype(vec.dtype, np.int):\n"
          ],
          "name": "stderr"
        },
        {
          "output_type": "stream",
          "text": [
            "Amount of empty data: 20\n",
            "Amount of empty data: 0\n",
            "Done!\n",
            "CPU times: user 7min 55s, sys: 6.45 s, total: 8min 1s\n",
            "Wall time: 6min 25s\n"
          ],
          "name": "stdout"
        }
      ]
    },
    {
      "cell_type": "code",
      "metadata": {
        "id": "DOCSAc_VoB68",
        "colab_type": "code",
        "outputId": "ef2a6336-681d-4734-8c9a-bd688fd4ebae",
        "colab": {
          "base_uri": "https://localhost:8080/",
          "height": 884
        }
      },
      "source": [
        "from IPython.display import FileLink, FileLinks\n",
        "FileLinks('/content/')"
      ],
      "execution_count": 21,
      "outputs": [
        {
          "output_type": "execute_result",
          "data": {
            "text/html": [
              "/content/<br>\n",
              "&nbsp;&nbsp;<a href='/content/data_ploting.py' target='_blank'>data_ploting.py</a><br>\n",
              "&nbsp;&nbsp;<a href='/content/3d_bioxriv.gif' target='_blank'>3d_bioxriv.gif</a><br>\n",
              "&nbsp;&nbsp;<a href='/content/mask.png' target='_blank'>mask.png</a><br>\n",
              "&nbsp;&nbsp;<a href='/content/w2v_tsne.py' target='_blank'>w2v_tsne.py</a><br>\n",
              "&nbsp;&nbsp;<a href='/content/words_cloud.py' target='_blank'>words_cloud.py</a><br>\n",
              "&nbsp;&nbsp;<a href='/content/biorxiv_tsne_2d_words.png.png' target='_blank'>biorxiv_tsne_2d_words.png.png</a><br>\n",
              "&nbsp;&nbsp;<a href='/content/bioxriv_wordcloud_mask.png' target='_blank'>bioxriv_wordcloud_mask.png</a><br>\n",
              "&nbsp;&nbsp;<a href='/content/pubmed_tsne_2d_dots.png.png' target='_blank'>pubmed_tsne_2d_dots.png.png</a><br>\n",
              "&nbsp;&nbsp;<a href='/content/pubmed_wordcloud_mask.png' target='_blank'>pubmed_wordcloud_mask.png</a><br>\n",
              "&nbsp;&nbsp;<a href='/content/bioxriv_similar_words.png.png' target='_blank'>bioxriv_similar_words.png.png</a><br>\n",
              "&nbsp;&nbsp;<a href='/content/bioxriv.pdf' target='_blank'>bioxriv.pdf</a><br>\n",
              "&nbsp;&nbsp;<a href='/content/3d_pubmded.gif' target='_blank'>3d_pubmded.gif</a><br>\n",
              "&nbsp;&nbsp;<a href='/content/biorxiv_tsne_2d_dots.png.png' target='_blank'>biorxiv_tsne_2d_dots.png.png</a><br>\n",
              "&nbsp;&nbsp;<a href='/content/bioxriv_wordcloud.png' target='_blank'>bioxriv_wordcloud.png</a><br>\n",
              "&nbsp;&nbsp;<a href='/content/get_pdf.py' target='_blank'>get_pdf.py</a><br>\n",
              "&nbsp;&nbsp;<a href='/content/promo.jpg' target='_blank'>promo.jpg</a><br>\n",
              "&nbsp;&nbsp;<a href='/content/pubmed_wordcloud.png' target='_blank'>pubmed_wordcloud.png</a><br>\n",
              "&nbsp;&nbsp;<a href='/content/main.py' target='_blank'>main.py</a><br>\n",
              "&nbsp;&nbsp;<a href='/content/pubmed_similar_words.png.png' target='_blank'>pubmed_similar_words.png.png</a><br>\n",
              "&nbsp;&nbsp;<a href='/content/pubmed_tsne_2d_words.png.png' target='_blank'>pubmed_tsne_2d_words.png.png</a><br>\n",
              "&nbsp;&nbsp;<a href='/content/pubmed.pdf' target='_blank'>pubmed.pdf</a><br>\n",
              "/content/.config/<br>\n",
              "&nbsp;&nbsp;<a href='/content/.config/.last_survey_prompt.yaml' target='_blank'>.last_survey_prompt.yaml</a><br>\n",
              "&nbsp;&nbsp;<a href='/content/.config/active_config' target='_blank'>active_config</a><br>\n",
              "&nbsp;&nbsp;<a href='/content/.config/gce' target='_blank'>gce</a><br>\n",
              "&nbsp;&nbsp;<a href='/content/.config/config_sentinel' target='_blank'>config_sentinel</a><br>\n",
              "&nbsp;&nbsp;<a href='/content/.config/.last_update_check.json' target='_blank'>.last_update_check.json</a><br>\n",
              "&nbsp;&nbsp;<a href='/content/.config/.metricsUUID' target='_blank'>.metricsUUID</a><br>\n",
              "/content/.config/configurations/<br>\n",
              "&nbsp;&nbsp;<a href='/content/.config/configurations/config_default' target='_blank'>config_default</a><br>\n",
              "/content/.config/logs/2020.02.05/<br>\n",
              "&nbsp;&nbsp;<a href='/content/.config/logs/2020.02.05/18.37.01.637056.log' target='_blank'>18.37.01.637056.log</a><br>\n",
              "&nbsp;&nbsp;<a href='/content/.config/logs/2020.02.05/18.36.15.774867.log' target='_blank'>18.36.15.774867.log</a><br>\n",
              "&nbsp;&nbsp;<a href='/content/.config/logs/2020.02.05/18.36.48.819796.log' target='_blank'>18.36.48.819796.log</a><br>\n",
              "&nbsp;&nbsp;<a href='/content/.config/logs/2020.02.05/18.36.32.968039.log' target='_blank'>18.36.32.968039.log</a><br>\n",
              "&nbsp;&nbsp;<a href='/content/.config/logs/2020.02.05/18.37.02.083241.log' target='_blank'>18.37.02.083241.log</a><br>\n",
              "&nbsp;&nbsp;<a href='/content/.config/logs/2020.02.05/18.36.45.012839.log' target='_blank'>18.36.45.012839.log</a><br>\n",
              "/content/__pycache__/<br>\n",
              "&nbsp;&nbsp;<a href='/content/__pycache__/get_pdf.cpython-36.pyc' target='_blank'>get_pdf.cpython-36.pyc</a><br>\n",
              "&nbsp;&nbsp;<a href='/content/__pycache__/main.cpython-36.pyc' target='_blank'>main.cpython-36.pyc</a><br>\n",
              "&nbsp;&nbsp;<a href='/content/__pycache__/words_cloud.cpython-36.pyc' target='_blank'>words_cloud.cpython-36.pyc</a><br>\n",
              "&nbsp;&nbsp;<a href='/content/__pycache__/data_ploting.cpython-36.pyc' target='_blank'>data_ploting.cpython-36.pyc</a><br>\n",
              "&nbsp;&nbsp;<a href='/content/__pycache__/w2v_tsne.cpython-36.pyc' target='_blank'>w2v_tsne.cpython-36.pyc</a><br>\n",
              "/content/sample_data/<br>\n",
              "&nbsp;&nbsp;<a href='/content/sample_data/anscombe.json' target='_blank'>anscombe.json</a><br>\n",
              "&nbsp;&nbsp;<a href='/content/sample_data/README.md' target='_blank'>README.md</a><br>\n",
              "&nbsp;&nbsp;<a href='/content/sample_data/california_housing_train.csv' target='_blank'>california_housing_train.csv</a><br>\n",
              "&nbsp;&nbsp;<a href='/content/sample_data/mnist_train_small.csv' target='_blank'>mnist_train_small.csv</a><br>\n",
              "&nbsp;&nbsp;<a href='/content/sample_data/california_housing_test.csv' target='_blank'>california_housing_test.csv</a><br>\n",
              "&nbsp;&nbsp;<a href='/content/sample_data/mnist_test.csv' target='_blank'>mnist_test.csv</a><br>"
            ],
            "text/plain": [
              "/content/\n",
              "  data_ploting.py\n",
              "  3d_bioxriv.gif\n",
              "  mask.png\n",
              "  w2v_tsne.py\n",
              "  words_cloud.py\n",
              "  biorxiv_tsne_2d_words.png.png\n",
              "  bioxriv_wordcloud_mask.png\n",
              "  pubmed_tsne_2d_dots.png.png\n",
              "  pubmed_wordcloud_mask.png\n",
              "  bioxriv_similar_words.png.png\n",
              "  bioxriv.pdf\n",
              "  3d_pubmded.gif\n",
              "  biorxiv_tsne_2d_dots.png.png\n",
              "  bioxriv_wordcloud.png\n",
              "  get_pdf.py\n",
              "  promo.jpg\n",
              "  pubmed_wordcloud.png\n",
              "  main.py\n",
              "  pubmed_similar_words.png.png\n",
              "  pubmed_tsne_2d_words.png.png\n",
              "  pubmed.pdf\n",
              "/content/.config/\n",
              "  .last_survey_prompt.yaml\n",
              "  active_config\n",
              "  gce\n",
              "  config_sentinel\n",
              "  .last_update_check.json\n",
              "  .metricsUUID\n",
              "/content/.config/configurations/\n",
              "  config_default\n",
              "/content/.config/logs/2020.02.05/\n",
              "  18.37.01.637056.log\n",
              "  18.36.15.774867.log\n",
              "  18.36.48.819796.log\n",
              "  18.36.32.968039.log\n",
              "  18.37.02.083241.log\n",
              "  18.36.45.012839.log\n",
              "/content/__pycache__/\n",
              "  get_pdf.cpython-36.pyc\n",
              "  main.cpython-36.pyc\n",
              "  words_cloud.cpython-36.pyc\n",
              "  data_ploting.cpython-36.pyc\n",
              "  w2v_tsne.cpython-36.pyc\n",
              "/content/sample_data/\n",
              "  anscombe.json\n",
              "  README.md\n",
              "  california_housing_train.csv\n",
              "  mnist_train_small.csv\n",
              "  california_housing_test.csv\n",
              "  mnist_test.csv"
            ]
          },
          "metadata": {
            "tags": []
          },
          "execution_count": 21
        }
      ]
    },
    {
      "cell_type": "code",
      "metadata": {
        "id": "O30bWgdaoB3d",
        "colab_type": "code",
        "colab": {}
      },
      "source": [
        ""
      ],
      "execution_count": 0,
      "outputs": []
    },
    {
      "cell_type": "code",
      "metadata": {
        "id": "s965yN_-oB0H",
        "colab_type": "code",
        "colab": {}
      },
      "source": [
        ""
      ],
      "execution_count": 0,
      "outputs": []
    }
  ]
}